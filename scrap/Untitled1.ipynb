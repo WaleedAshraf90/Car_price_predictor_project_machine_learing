{
 "cells": [
  {
   "cell_type": "code",
   "execution_count": 10,
   "id": "ea717f0d",
   "metadata": {},
   "outputs": [],
   "source": [
    "import random\n",
    "x=['waleed','saliom','abd','mohand','mahmoud']"
   ]
  },
  {
   "cell_type": "code",
   "execution_count": 11,
   "id": "b66fe187",
   "metadata": {},
   "outputs": [
    {
     "data": {
      "text/plain": [
       "'waleed'"
      ]
     },
     "execution_count": 11,
     "metadata": {},
     "output_type": "execute_result"
    }
   ],
   "source": [
    "random.choice(x)\n"
   ]
  },
  {
   "cell_type": "code",
   "execution_count": null,
   "id": "fff432a8",
   "metadata": {},
   "outputs": [],
   "source": []
  },
  {
   "cell_type": "code",
   "execution_count": null,
   "id": "bd65e12e",
   "metadata": {},
   "outputs": [],
   "source": []
  }
 ],
 "metadata": {
  "kernelspec": {
   "display_name": "Python 3",
   "language": "python",
   "name": "python3"
  },
  "language_info": {
   "codemirror_mode": {
    "name": "ipython",
    "version": 3
   },
   "file_extension": ".py",
   "mimetype": "text/x-python",
   "name": "python",
   "nbconvert_exporter": "python",
   "pygments_lexer": "ipython3",
   "version": "3.8.8"
  }
 },
 "nbformat": 4,
 "nbformat_minor": 5
}
